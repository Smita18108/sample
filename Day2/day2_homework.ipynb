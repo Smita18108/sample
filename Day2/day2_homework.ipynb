{
 "cells": [
  {
   "cell_type": "markdown",
   "metadata": {
    "id": "f-_rzXShsbru"
   },
   "source": [
    "**1. Password strength validator**"
   ]
  },
  {
   "cell_type": "code",
   "execution_count": null,
   "metadata": {
    "colab": {
     "base_uri": "https://localhost:8080/"
    },
    "executionInfo": {
     "elapsed": 11708,
     "status": "ok",
     "timestamp": 1754136991322,
     "user": {
      "displayName": "Smita Ranjane",
      "userId": "16372969677891365620"
     },
     "user_tz": -330
    },
    "id": "c5GZ1Kveskfq",
    "outputId": "820a9ba8-4d15-4328-d991-d379325044af"
   },
   "outputs": [
    {
     "name": "stdout",
     "output_type": "stream",
     "text": [
      "Enter your password: Abcd$9753\n",
      "Password is strong.\n"
     ]
    }
   ],
   "source": [
    "password = input(\"Enter your password: \")\n",
    "\n",
    "if len(password) < 8:\n",
    "    print(\"Password is weak, it must be contain at least 8 characters.\")\n",
    "elif not any(char.isupper() for char in password):\n",
    "    print(\"Your password is weak, it must contain at least one uppercase letter.\")\n",
    "elif not any(char.islower() for char in password):\n",
    "    print(\"Your password is weak, it must contain at least one lowercase letter.\")\n",
    "elif not any(char.isdigit() for char in password):\n",
    "    print(\"Your password is weak, it must contain at least one digit.\")\n",
    "elif not any(char in \"!@#$%^&*()-_=+[]{}|;:,.<>?/\" for char in password):\n",
    "    print(\"Your password is weak, it must contain at least one special character.\")\n",
    "else:\n",
    "    print(\"Password is strong.\")"
   ]
  },
  {
   "cell_type": "markdown",
   "metadata": {
    "id": "IdhOLYQEt2Qx"
   },
   "source": [
    "**2. Nested grade evaluation with attendance**"
   ]
  },
  {
   "cell_type": "code",
   "execution_count": null,
   "metadata": {
    "colab": {
     "base_uri": "https://localhost:8080/"
    },
    "executionInfo": {
     "elapsed": 18955,
     "status": "ok",
     "timestamp": 1754137104356,
     "user": {
      "displayName": "Smita Ranjane",
      "userId": "16372969677891365620"
     },
     "user_tz": -330
    },
    "id": "Cut4J_exspEs",
    "outputId": "9a4665b0-bd28-44bf-9f07-1651b2bda1ac"
   },
   "outputs": [
    {
     "name": "stdout",
     "output_type": "stream",
     "text": [
      "Enter you score between 0 to 100: 78\n",
      "Enter your attendance percentage: 80\n",
      "You have passed the exam.\n"
     ]
    }
   ],
   "source": [
    "\n",
    "score = int(input(\"Enter you score between 0 to 100: \"))\n",
    "attendance = int(input(\"Enter your attendance percentage: \"))\n",
    "\n",
    "if score >= 50 and attendance >= 75:\n",
    "    print(\"You have passed the exam.\")\n",
    "elif score < 50 and attendance >= 75:\n",
    "    print(\"You have failed the exam due to less than passing score.\")\n",
    "elif score >= 50 and attendance < 75:\n",
    "    print(\"You have failed the exam due to low attendance.\")\n",
    "else:\n",
    "    print(\"You have failed the exam due to both low score and low attendance.\")"
   ]
  },
  {
   "cell_type": "markdown",
   "metadata": {
    "id": "e3IMPI42zjYv"
   },
   "source": [
    "**3. Traffic Fine Calculator**"
   ]
  },
  {
   "cell_type": "code",
   "execution_count": null,
   "metadata": {
    "colab": {
     "base_uri": "https://localhost:8080/"
    },
    "executionInfo": {
     "elapsed": 15239,
     "status": "ok",
     "timestamp": 1754140573986,
     "user": {
      "displayName": "Smita Ranjane",
      "userId": "16372969677891365620"
     },
     "user_tz": -330
    },
    "id": "F2biB7mxt8QQ",
    "outputId": "e03eb4ad-c7a2-43c2-ca55-19ad6148ba59"
   },
   "outputs": [
    {
     "name": "stdout",
     "output_type": "stream",
     "text": [
      "Enter vehicle type (car/truck/motorcycle): Car\n",
      "Enter the speed of the vehicle: 60\n",
      "\n",
      "Invalid vehicle type entered.\n",
      "Enter vehicle type from this -> (car/truck/motorcycle): car\n",
      "Enter the speed of the vehicle: 60\n",
      "\n",
      "Traffic Fine Information:\n",
      "Vehicle Type: car\n",
      "Speed Over Limit: 0 mph\n",
      "Congratulations ! No fine.\n"
     ]
    }
   ],
   "source": [
    "vehicle_type = input(\"Enter vehicle type (car/truck/motorcycle): \")\n",
    "speed = int(input(\"Enter the speed of the vehicle: \"))\n",
    "\n",
    "speed_limit = 60\n",
    "over_speed = speed - speed_limit\n",
    "\n",
    "fine = 0\n",
    "suspension = False\n",
    "\n",
    "if vehicle_type == \"car\":\n",
    "    if 1 <= over_speed <= 10:\n",
    "        fine = 50\n",
    "    elif over_speed <= 20:\n",
    "        fine = 100\n",
    "    elif over_speed > 20:\n",
    "        fine = 200\n",
    "        suspension = True\n",
    "\n",
    "elif vehicle_type == \"truck\":\n",
    "    if 1 <= over_speed <= 10:\n",
    "        fine = 100\n",
    "    elif over_speed <= 20:\n",
    "        fine = 200\n",
    "    elif over_speed > 20:\n",
    "        fine = 400\n",
    "    if over_speed > 15:\n",
    "        suspension = True\n",
    "\n",
    "elif vehicle_type == \"motorcycle\":\n",
    "    if 1 <= over_speed <= 10:\n",
    "        fine = 25\n",
    "    elif over_speed <= 20:\n",
    "        fine = 50\n",
    "    elif over_speed > 20:\n",
    "        fine = 100\n",
    "    if over_speed > 25:\n",
    "        suspension = True\n",
    "\n",
    "else:\n",
    "    print(\"\\nInvalid vehicle type entered.\")\n",
    "    vehicle_type = input(\"Enter vehicle type from this -> (car/truck/motorcycle): \")\n",
    "    speed = int(input(\"Enter the speed of the vehicle: \"))\n",
    "\n",
    "print(\"\\nTraffic Fine Information:\")\n",
    "print(\"Vehicle Type:\", vehicle_type)\n",
    "print(\"Speed Over Limit:\", over_speed, \"mph\")\n",
    "\n",
    "if over_speed <= 0:\n",
    "    print(\"Congratulations ! No fine.\")\n",
    "else:\n",
    "    print(\"Fine Amount: ₹\", fine)\n",
    "    if suspension:\n",
    "        print(\"License Suspension Warning: YES\")\n",
    "    else:\n",
    "        print(\"License Suspension Warning: NO\")\n"
   ]
  },
  {
   "cell_type": "code",
   "execution_count": null,
   "metadata": {
    "colab": {
     "base_uri": "https://localhost:8080/"
    },
    "executionInfo": {
     "elapsed": 113936,
     "status": "ok",
     "timestamp": 1754142807101,
     "user": {
      "displayName": "Smita Ranjane",
      "userId": "16372969677891365620"
     },
     "user_tz": -330
    },
    "id": "KGauioV55wE2",
    "outputId": "6fe2d026-87c4-47de-a2e7-363231cf7516"
   },
   "outputs": [
    {
     "name": "stdout",
     "output_type": "stream",
     "text": [
      "Enter age: 19\n",
      "Enter monthly income: 5000\n",
      "Enter credit score (300-850): 550\n",
      "You are not eligible: Age must be between 21 and 60.\n",
      "You are not eligible: rejected due to poor credit (below 600).\n"
     ]
    }
   ],
   "source": [
    "age = int(input(\"Enter age: \"))\n",
    "income = float(input(\"Enter monthly income: \"))\n",
    "credit_score = int(input(\"Enter credit score (300-850): \"))\n",
    "\n",
    "eligibility = True\n",
    "\n",
    "if age < 21 or age > 60:\n",
    "    print(\"You are not eligible: Age must be between 21 and 60.\")\n",
    "    eligibility = False\n",
    "\n",
    "if income < 2500:\n",
    "    print(\"You are not eligible: Income must be at least $2,500.\")\n",
    "    eligibility = False\n",
    "\n",
    "if credit_score < 300 or credit_score > 850:\n",
    "    print(\"You are not eligible: Credit score must be between 300 and 850.\")\n",
    "    eligibility = False\n",
    "elif credit_score < 600:\n",
    "    print(\"You are not eligible: rejected due to poor credit (below 600).\")\n",
    "    eligibility = False\n",
    "\n",
    "if eligibility:\n",
    "    print(\"Congratulations! You are eligible.\")\n"
   ]
  },
  {
   "cell_type": "code",
   "execution_count": null,
   "metadata": {
    "id": "jN3Rt4gnBt-t"
   },
   "outputs": [],
   "source": []
  }
 ],
 "metadata": {
  "colab": {
   "authorship_tag": "ABX9TyP1/aXvlmnQafO5pJ7HYgFo",
   "provenance": []
  },
  "kernelspec": {
   "display_name": "Python 3",
   "name": "python3"
  },
  "language_info": {
   "name": "python"
  }
 },
 "nbformat": 4,
 "nbformat_minor": 0
}
