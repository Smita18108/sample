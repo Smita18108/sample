{
  "nbformat": 4,
  "nbformat_minor": 0,
  "metadata": {
    "colab": {
      "provenance": []
    },
    "kernelspec": {
      "name": "python3",
      "display_name": "Python 3"
    },
    "language_info": {
      "name": "python"
    }
  },
  "cells": [
    {
      "cell_type": "markdown",
      "source": [
        "**you are given a list of intergers write a python program to perform following operations sequentially**\n",
        "\n",
        "append 100 at end\n",
        "\n",
        "insert 50 at 3\n",
        "\n",
        "remove first 20\n",
        "\n",
        "count 10 appearances\n",
        "\n",
        "reverse\n",
        "\n",
        "sort\n",
        "\n",
        "find max and min element\n",
        "\n",
        "calculate sum"
      ],
      "metadata": {
        "id": "Abm-CnvVQOva"
      }
    },
    {
      "cell_type": "markdown",
      "source": [],
      "metadata": {
        "id": "_EOs20m1klCZ"
      }
    },
    {
      "cell_type": "code",
      "source": [
        "list=[10,10,10,20,20,30]\n",
        "list.append(100)\n",
        "print(\"append list: \",list)\n",
        "list.insert(2,50)\n",
        "print(\"after insertion: \",list)\n",
        "list.remove(20)\n",
        "print(\"after removal first occurence of 20: \", list)\n",
        "print(\"count of 10: \",list.count(10))\n",
        "list.reverse()\n",
        "print(\"reversed list: \",list)\n",
        "list.sort()\n",
        "print(\"sorted list: \",list)\n",
        "print(\"max element: \",max(list))\n",
        "print(\"min element : \",min(list))\n",
        "print(\"sum of all numbers: \",sum(list))"
      ],
      "metadata": {
        "colab": {
          "base_uri": "https://localhost:8080/"
        },
        "id": "71IHJnn3QR0Z",
        "outputId": "752bbc66-5335-4018-91c4-11d1b6006c1f"
      },
      "execution_count": null,
      "outputs": [
        {
          "output_type": "stream",
          "name": "stdout",
          "text": [
            "append list:  [10, 10, 10, 20, 20, 30, 100]\n",
            "after insertion:  [10, 10, 50, 10, 20, 20, 30, 100]\n",
            "after removal first occurence of 20:  [10, 10, 50, 10, 20, 30, 100]\n",
            "count of 10:  3\n",
            "reversed list:  [100, 30, 20, 10, 50, 10, 10]\n",
            "sorted list:  [10, 10, 10, 20, 30, 50, 100]\n",
            "max element:  100\n",
            "min element :  10\n",
            "sum of all numbers:  230\n"
          ]
        }
      ]
    },
    {
      "cell_type": "markdown",
      "source": [
        "Day 6 -> list - live work\n",
        "      -> tuples - homework\n",
        "\n",
        "\n",
        "Write a python function that takes a list of integers and returns a new list with all the even numbers doubled"
      ],
      "metadata": {
        "id": "SDLTgD6Lkmz7"
      }
    },
    {
      "cell_type": "code",
      "source": [],
      "metadata": {
        "id": "zMuAzlISmvRo"
      },
      "execution_count": null,
      "outputs": []
    }
  ]
}