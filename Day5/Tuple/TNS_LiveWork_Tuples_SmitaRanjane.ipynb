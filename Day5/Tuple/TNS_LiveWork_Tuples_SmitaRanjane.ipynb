{
 "cells": [
  {
   "cell_type": "markdown",
   "metadata": {
    "id": "aCZVqq0DAlHI"
   },
   "source": [
    "**DSA Problems**"
   ]
  },
  {
   "cell_type": "markdown",
   "metadata": {
    "id": "4gVazTZC-McR"
   },
   "source": [
    "1. Given a tuple of numbers and a target element , find and orint all indexes where the target where the target element occurs in the tuple."
   ]
  },
  {
   "cell_type": "code",
   "execution_count": null,
   "metadata": {
    "colab": {
     "base_uri": "https://localhost:8080/"
    },
    "executionInfo": {
     "elapsed": 30,
     "status": "ok",
     "timestamp": 1754023926255,
     "user": {
      "displayName": "Smita Ranjane",
      "userId": "16372969677891365620"
     },
     "user_tz": -330
    },
    "id": "xebIQX1Y-NhH",
    "outputId": "d40dc6d2-3e2e-461c-91d3-bf573717ed91"
   },
   "outputs": [
    {
     "name": "stdout",
     "output_type": "stream",
     "text": [
      "[0, 5]\n"
     ]
    }
   ],
   "source": [
    "new_tuple = (1,2,3,4,5,1,2,3)\n",
    "target = 1\n",
    "\n",
    "indexes = []\n",
    "\n",
    "for i in range(len(new_tuple)):\n",
    "  if new_tuple[i] == target:\n",
    "    indexes.append(i)\n",
    "\n",
    "print(indexes)"
   ]
  },
  {
   "cell_type": "markdown",
   "metadata": {
    "id": "laDsHVV8_FkS"
   },
   "source": [
    "2. Flatten a tuple of tuples"
   ]
  },
  {
   "cell_type": "code",
   "execution_count": null,
   "metadata": {
    "colab": {
     "base_uri": "https://localhost:8080/"
    },
    "executionInfo": {
     "elapsed": 43,
     "status": "ok",
     "timestamp": 1754024431191,
     "user": {
      "displayName": "Smita Ranjane",
      "userId": "16372969677891365620"
     },
     "user_tz": -330
    },
    "id": "BjHXKD6s-PeS",
    "outputId": "adc7536c-c9c1-4c7a-9db5-21773b745e64"
   },
   "outputs": [
    {
     "name": "stdout",
     "output_type": "stream",
     "text": [
      "(1, 2, 3, 4, 5, 6)\n"
     ]
    }
   ],
   "source": [
    "nested_tuple = ((1,2),(3,4),(5,6))\n",
    "\n",
    "flatten_list = []\n",
    "\n",
    "for i in nested_tuple:\n",
    "  for ele in i:\n",
    "    flatten_list.append(ele)\n",
    "\n",
    "print(tuple(flatten_list))\n",
    "\n"
   ]
  },
  {
   "cell_type": "markdown",
   "metadata": {
    "id": "q4kafakAAUHC"
   },
   "source": [
    "3. Swap First and Last Elements"
   ]
  },
  {
   "cell_type": "code",
   "execution_count": null,
   "metadata": {
    "colab": {
     "base_uri": "https://localhost:8080/"
    },
    "executionInfo": {
     "elapsed": 25,
     "status": "ok",
     "timestamp": 1754024662443,
     "user": {
      "displayName": "Smita Ranjane",
      "userId": "16372969677891365620"
     },
     "user_tz": -330
    },
    "id": "R-KROWzN_16Q",
    "outputId": "c80395c5-dd28-40b6-c392-f20c6e6061ec"
   },
   "outputs": [
    {
     "name": "stdout",
     "output_type": "stream",
     "text": [
      "(5, 2, 3, 4, 1)\n"
     ]
    }
   ],
   "source": [
    "ele_tuple = (1,2,3,4,5)\n",
    "\n",
    "# ele_tuple[start, stop] ==> syntax\n",
    "ele_tuple = ele_tuple[-1:] + ele_tuple[1:-1] + ele_tuple[:1]\n",
    "\n",
    "print(ele_tuple)"
   ]
  }
 ],
 "metadata": {
  "colab": {
   "authorship_tag": "ABX9TyM4En9Qu1aPlfIlcIMnkMsx",
   "provenance": []
  },
  "kernelspec": {
   "display_name": "Python 3",
   "name": "python3"
  },
  "language_info": {
   "name": "python"
  }
 },
 "nbformat": 4,
 "nbformat_minor": 0
}
