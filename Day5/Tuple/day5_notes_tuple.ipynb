{
 "cells": [
  {
   "cell_type": "markdown",
   "metadata": {
    "id": "9o4KFeA21ibB"
   },
   "source": [
    "Tuple :\n",
    "static array\n",
    "\n",
    "operations :\n",
    "index(), count(), len, max/min, sum, tuple()-convert an iterable into a tuple."
   ]
  },
  {
   "cell_type": "code",
   "execution_count": null,
   "metadata": {
    "colab": {
     "base_uri": "https://localhost:8080/"
    },
    "executionInfo": {
     "elapsed": 18,
     "status": "ok",
     "timestamp": 1754021787678,
     "user": {
      "displayName": "Smita Ranjane",
      "userId": "16372969677891365620"
     },
     "user_tz": -330
    },
    "id": "7GJIgvGp18ne",
    "outputId": "7d371d7d-443b-4829-daaa-d7c37a008568"
   },
   "outputs": [
    {
     "name": "stdout",
     "output_type": "stream",
     "text": [
      "(1, 2, 3, 4, 5)\n"
     ]
    }
   ],
   "source": [
    "my_tuple = (1,2,3,4,5)\n",
    "print(my_tuple)"
   ]
  },
  {
   "cell_type": "markdown",
   "metadata": {
    "id": "d44ySWBU2DAV"
   },
   "source": [
    "**1. index()**"
   ]
  },
  {
   "cell_type": "code",
   "execution_count": null,
   "metadata": {
    "colab": {
     "base_uri": "https://localhost:8080/"
    },
    "executionInfo": {
     "elapsed": 30,
     "status": "ok",
     "timestamp": 1754021819608,
     "user": {
      "displayName": "Smita Ranjane",
      "userId": "16372969677891365620"
     },
     "user_tz": -330
    },
    "id": "RDH0S8uM2KGJ",
    "outputId": "5b1e0c11-9d63-4de1-db27-1265552e2688"
   },
   "outputs": [
    {
     "name": "stdout",
     "output_type": "stream",
     "text": [
      "2\n"
     ]
    }
   ],
   "source": [
    "my_tuple = (1,2,3,4,5)\n",
    "print(my_tuple.index(3))"
   ]
  },
  {
   "cell_type": "code",
   "execution_count": null,
   "metadata": {
    "id": "H6tDO1Bx2e4w"
   },
   "outputs": [],
   "source": []
  },
  {
   "cell_type": "markdown",
   "metadata": {
    "id": "1hIEvfB02fPv"
   },
   "source": [
    "**2. count()**"
   ]
  },
  {
   "cell_type": "code",
   "execution_count": null,
   "metadata": {
    "colab": {
     "base_uri": "https://localhost:8080/"
    },
    "executionInfo": {
     "elapsed": 19,
     "status": "ok",
     "timestamp": 1754021916169,
     "user": {
      "displayName": "Smita Ranjane",
      "userId": "16372969677891365620"
     },
     "user_tz": -330
    },
    "id": "X81CKuP_2PM3",
    "outputId": "f5970806-906c-465e-a523-c940a8c55f5b"
   },
   "outputs": [
    {
     "name": "stdout",
     "output_type": "stream",
     "text": [
      "3\n"
     ]
    }
   ],
   "source": [
    "num = (1,2,3,1,4,5,1,6)\n",
    "print(num.count(1))"
   ]
  },
  {
   "cell_type": "code",
   "execution_count": null,
   "metadata": {
    "id": "51LiEWpg2YMf"
   },
   "outputs": [],
   "source": []
  },
  {
   "cell_type": "markdown",
   "metadata": {
    "id": "fc6Q_Gt12pH4"
   },
   "source": [
    "**3. len()**"
   ]
  },
  {
   "cell_type": "code",
   "execution_count": null,
   "metadata": {
    "colab": {
     "base_uri": "https://localhost:8080/"
    },
    "executionInfo": {
     "elapsed": 22,
     "status": "ok",
     "timestamp": 1754021962892,
     "user": {
      "displayName": "Smita Ranjane",
      "userId": "16372969677891365620"
     },
     "user_tz": -330
    },
    "id": "a5isBMqZ2sJM",
    "outputId": "2c0e11ca-d221-4f9c-fd66-af0a23edcb31"
   },
   "outputs": [
    {
     "name": "stdout",
     "output_type": "stream",
     "text": [
      "8\n"
     ]
    }
   ],
   "source": [
    "print(len(num))"
   ]
  },
  {
   "cell_type": "code",
   "execution_count": null,
   "metadata": {
    "id": "A1NR5cLM3D6v"
   },
   "outputs": [],
   "source": []
  },
  {
   "cell_type": "markdown",
   "metadata": {
    "id": "-Jdr5Wbq3Ezy"
   },
   "source": [
    "**4. max(), min(), sum()**"
   ]
  },
  {
   "cell_type": "code",
   "execution_count": null,
   "metadata": {
    "colab": {
     "base_uri": "https://localhost:8080/"
    },
    "executionInfo": {
     "elapsed": 66,
     "status": "ok",
     "timestamp": 1754022064276,
     "user": {
      "displayName": "Smita Ranjane",
      "userId": "16372969677891365620"
     },
     "user_tz": -330
    },
    "id": "zMHKliIX2uEW",
    "outputId": "4b7f7017-2d98-4949-8269-b76051ce23e0"
   },
   "outputs": [
    {
     "name": "stdout",
     "output_type": "stream",
     "text": [
      "50\n",
      "10\n",
      "150\n"
     ]
    }
   ],
   "source": [
    "new_tuple = (10,20,30,40,50)\n",
    "print(max(new_tuple))\n",
    "print(min(new_tuple))\n",
    "print(sum(new_tuple))"
   ]
  },
  {
   "cell_type": "markdown",
   "metadata": {
    "id": "KjbqE7t53P3A"
   },
   "source": [
    "**5. tuple()** - it is a constructor that converts any data structure into tuple DS."
   ]
  },
  {
   "cell_type": "code",
   "execution_count": null,
   "metadata": {
    "colab": {
     "base_uri": "https://localhost:8080/"
    },
    "executionInfo": {
     "elapsed": 34,
     "status": "ok",
     "timestamp": 1754022560664,
     "user": {
      "displayName": "Smita Ranjane",
      "userId": "16372969677891365620"
     },
     "user_tz": -330
    },
    "id": "YxGA630X3R8C",
    "outputId": "fc13b1d2-95f4-4c41-e5e3-3e715aa8ead2"
   },
   "outputs": [
    {
     "name": "stdout",
     "output_type": "stream",
     "text": [
      "(1, 2, 3, 4, 5)\n",
      "<class 'list'>\n"
     ]
    }
   ],
   "source": [
    "new_list = [1,2,3,4,5]\n",
    "print(tuple(new_list))\n",
    "print(type(new_list))"
   ]
  }
 ],
 "metadata": {
  "colab": {
   "authorship_tag": "ABX9TyNVlPll2yGgO3XeH2Ki1JOG",
   "provenance": []
  },
  "kernelspec": {
   "display_name": "Python 3",
   "name": "python3"
  },
  "language_info": {
   "name": "python"
  }
 },
 "nbformat": 4,
 "nbformat_minor": 0
}
