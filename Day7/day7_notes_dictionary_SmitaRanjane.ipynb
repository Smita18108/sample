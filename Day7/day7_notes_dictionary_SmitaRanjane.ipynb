{
 "cells": [
  {
   "cell_type": "markdown",
   "id": "307708c2",
   "metadata": {},
   "source": [
    "Dictionary - unordered, mutable collection of key value pairs.\n",
    "\n"
   ]
  },
  {
   "cell_type": "code",
   "execution_count": 1,
   "id": "d7e8a559",
   "metadata": {},
   "outputs": [
    {
     "name": "stdout",
     "output_type": "stream",
     "text": [
      "Dictionary : {'id': 1, 'name': 'smita', 'branch': 'computer'}\n"
     ]
    }
   ],
   "source": [
    "student = {\n",
    "    \"id\": 1,\n",
    "    \"name\": \"smita\",\n",
    "    \"branch\": \"computer\"\n",
    "}\n",
    "\n",
    "print(\"Dictionary :\", student)"
   ]
  },
  {
   "cell_type": "code",
   "execution_count": 3,
   "id": "5ae8693c",
   "metadata": {},
   "outputs": [
    {
     "name": "stdout",
     "output_type": "stream",
     "text": [
      "('id', 'name', 'branch')\n"
     ]
    }
   ],
   "source": [
    "print(tuple(student))"
   ]
  },
  {
   "cell_type": "markdown",
   "id": "1a4e60bc",
   "metadata": {},
   "source": [
    "1. get()"
   ]
  },
  {
   "cell_type": "code",
   "execution_count": 5,
   "id": "3e01a4e7",
   "metadata": {},
   "outputs": [
    {
     "name": "stdout",
     "output_type": "stream",
     "text": [
      "1\n",
      "None\n"
     ]
    }
   ],
   "source": [
    "print(student.get(\"id\"))\n",
    "print(student.get(\"age\"))"
   ]
  },
  {
   "cell_type": "markdown",
   "id": "ed780a14",
   "metadata": {},
   "source": [
    "2. keys()"
   ]
  },
  {
   "cell_type": "code",
   "execution_count": 8,
   "id": "80babf55",
   "metadata": {},
   "outputs": [
    {
     "name": "stdout",
     "output_type": "stream",
     "text": [
      "dict_keys(['name', 'age', 'city'])\n"
     ]
    }
   ],
   "source": [
    "person = {\n",
    "    \"name\": \"shyam\",\n",
    "    \"age\": 25,\n",
    "    \"city\": \"pune\"\n",
    "}\n",
    "print(person.keys())\n"
   ]
  },
  {
   "cell_type": "markdown",
   "id": "894b194a",
   "metadata": {},
   "source": [
    "3. values()"
   ]
  },
  {
   "cell_type": "code",
   "execution_count": 21,
   "id": "aa2568cc",
   "metadata": {},
   "outputs": [
    {
     "name": "stdout",
     "output_type": "stream",
     "text": [
      "dict_values(['', '', ''])\n"
     ]
    }
   ],
   "source": [
    "student1 = {    \n",
    "    \"id\": \"\",\n",
    "    \"name\": \"\",\n",
    "    \"branch\": \"\"\n",
    "}\n",
    "\n",
    "print(student1.values())"
   ]
  },
  {
   "cell_type": "markdown",
   "id": "aaa1256f",
   "metadata": {},
   "source": [
    "4. items()"
   ]
  },
  {
   "cell_type": "code",
   "execution_count": 14,
   "id": "bd706d42",
   "metadata": {},
   "outputs": [
    {
     "name": "stdout",
     "output_type": "stream",
     "text": [
      "dict_items([('id', ''), ('name', ''), ('branch', '')])\n"
     ]
    }
   ],
   "source": [
    "print(student1.items())"
   ]
  },
  {
   "cell_type": "markdown",
   "id": "de658cbd",
   "metadata": {},
   "source": [
    "5. update()"
   ]
  },
  {
   "cell_type": "code",
   "execution_count": 18,
   "id": "62cea5df",
   "metadata": {},
   "outputs": [
    {
     "name": "stdout",
     "output_type": "stream",
     "text": [
      "{'id': '', 'name': '', 'branch': '', 'country': 'India'}\n"
     ]
    }
   ],
   "source": [
    "student1.update({\"country\": \"India\"})\n",
    "print(student1)"
   ]
  },
  {
   "cell_type": "markdown",
   "id": "f7a6d1ba",
   "metadata": {},
   "source": [
    "6. pop()"
   ]
  },
  {
   "cell_type": "code",
   "execution_count": 26,
   "id": "2a6f4378",
   "metadata": {},
   "outputs": [
    {
     "name": "stdout",
     "output_type": "stream",
     "text": [
      "Removed item: India\n",
      "{'id': ''}\n",
      "Removed element: ('branch', 'IT')\n"
     ]
    }
   ],
   "source": [
    "removed_item = student1.pop(\"country\", \"India\")\n",
    "print(\"Removed item:\", removed_item)\n",
    "print(student1)\n",
    "\n",
    "student2 = {\n",
    "    \"id\": 2,   \n",
    "    \"name\": \"ram\",\n",
    "    \"branch\": \"IT\"\n",
    "}\n",
    "removed_element = student2.popitem()\n",
    "print(\"Removed element:\", removed_element)"
   ]
  },
  {
   "cell_type": "markdown",
   "id": "9b7ee068",
   "metadata": {},
   "source": [
    "7. clear()"
   ]
  },
  {
   "cell_type": "code",
   "execution_count": null,
   "id": "6f5a0cc4",
   "metadata": {},
   "outputs": [],
   "source": [
    "print(student1.clear())"
   ]
  },
  {
   "cell_type": "markdown",
   "id": "e19e7dc1",
   "metadata": {},
   "source": [
    "8. copy()"
   ]
  },
  {
   "cell_type": "markdown",
   "id": "b7feb46d",
   "metadata": {},
   "source": [
    "9. popitem()"
   ]
  },
  {
   "cell_type": "markdown",
   "id": "fe67e6f4",
   "metadata": {},
   "source": [
    "10. setdefault()"
   ]
  },
  {
   "cell_type": "code",
   "execution_count": 2,
   "id": "bf2fa919",
   "metadata": {},
   "outputs": [
    {
     "name": "stdout",
     "output_type": "stream",
     "text": [
      "After setdefault: {'name': 'shyam', 'age': 25, 'city': 'pune', 'country': 'India'}\n"
     ]
    }
   ],
   "source": [
    "person = {\n",
    "    \"name\": \"shyam\",\n",
    "    \"age\": 25,\n",
    "    \"city\": \"pune\"\n",
    "}\n",
    "\n",
    "ans = person.setdefault(\"country\", \"India\")\n",
    "print(\"After setdefault:\", person)\n"
   ]
  },
  {
   "cell_type": "markdown",
   "id": "f45862ff",
   "metadata": {},
   "source": [
    "11. del()"
   ]
  },
  {
   "cell_type": "code",
   "execution_count": null,
   "id": "bb740409",
   "metadata": {},
   "outputs": [],
   "source": []
  },
  {
   "cell_type": "markdown",
   "id": "fbb1f2e8",
   "metadata": {},
   "source": [
    "homework of set ->\n",
    "1. remove duplicates from a llist using set\n",
    "2. check if two sets have common elements\n",
    "3. find elements present in  only one of the two sets"
   ]
  },
  {
   "cell_type": "markdown",
   "id": "5c98ffb0",
   "metadata": {},
   "source": [
    "homework of dictionary -> \n",
    "1. given a list of numbers, count how many times each number occurs using a dictionary\n",
    "2. find the key with maximum value "
   ]
  }
 ],
 "metadata": {
  "kernelspec": {
   "display_name": "Python 3",
   "language": "python",
   "name": "python3"
  },
  "language_info": {
   "codemirror_mode": {
    "name": "ipython",
    "version": 3
   },
   "file_extension": ".py",
   "mimetype": "text/x-python",
   "name": "python",
   "nbconvert_exporter": "python",
   "pygments_lexer": "ipython3",
   "version": "3.13.5"
  }
 },
 "nbformat": 4,
 "nbformat_minor": 5
}
