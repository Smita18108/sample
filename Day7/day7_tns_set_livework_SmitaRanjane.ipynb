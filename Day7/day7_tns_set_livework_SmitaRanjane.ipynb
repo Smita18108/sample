{
 "cells": [
  {
   "cell_type": "markdown",
   "id": "b1fff4b7",
   "metadata": {},
   "source": [
    "Set - unindexed"
   ]
  },
  {
   "cell_type": "code",
   "execution_count": 1,
   "id": "5c72957c",
   "metadata": {},
   "outputs": [
    {
     "name": "stdout",
     "output_type": "stream",
     "text": [
      "{1, 2, 3, 4, 5}\n"
     ]
    }
   ],
   "source": [
    "my_set = {1,2,3,4,5}\n",
    "print(my_set)"
   ]
  },
  {
   "cell_type": "code",
   "execution_count": 2,
   "id": "6610c4c1",
   "metadata": {},
   "outputs": [
    {
     "name": "stdout",
     "output_type": "stream",
     "text": [
      "<class 'set'>\n"
     ]
    }
   ],
   "source": [
    "print(type(my_set))"
   ]
  },
  {
   "cell_type": "markdown",
   "id": "cd4b16db",
   "metadata": {},
   "source": [
    "Function :"
   ]
  },
  {
   "cell_type": "markdown",
   "id": "9d585609",
   "metadata": {},
   "source": [
    "1. add()"
   ]
  },
  {
   "cell_type": "code",
   "execution_count": 4,
   "id": "1b67181d",
   "metadata": {},
   "outputs": [
    {
     "name": "stdout",
     "output_type": "stream",
     "text": [
      "{1, 2, 3, 4, 5, 6}\n",
      "{'smita', 'Bhoomi', 'divya', 'Ranjane'}\n"
     ]
    }
   ],
   "source": [
    "my_set.add(6)\n",
    "print(my_set)\n",
    "\n",
    "new_set = {\"smita\", \"Bhoomi\", \"divya\"}\n",
    "new_set.add(\"Ranjane\")\n",
    "print(new_set)"
   ]
  },
  {
   "cell_type": "markdown",
   "id": "ef16c5e9",
   "metadata": {},
   "source": [
    "2. update()"
   ]
  },
  {
   "cell_type": "code",
   "execution_count": null,
   "id": "517ce1ad",
   "metadata": {},
   "outputs": [
    {
     "name": "stdout",
     "output_type": "stream",
     "text": [
      "{1, 2, 3, 4, 5}\n",
      "<class 'set'>\n",
      "{1, 2, 3, 4, 5, 6, 7}\n",
      "<class 'set'>\n"
     ]
    }
   ],
   "source": [
    "set1 = {1, 2, 3}\n",
    "set1.update([4, 5])\n",
    "print(set1)\n",
    "print(type(set1))\n",
    "\n",
    "set1.update((6, 7))\n",
    "print(set1)\n",
    "print(type(set1))"
   ]
  },
  {
   "cell_type": "markdown",
   "id": "8edaa269",
   "metadata": {},
   "source": [
    "3. remove() - mention element not the index."
   ]
  },
  {
   "cell_type": "code",
   "execution_count": 9,
   "id": "34e48a28",
   "metadata": {},
   "outputs": [
    {
     "name": "stdout",
     "output_type": "stream",
     "text": [
      "{1, 3}\n"
     ]
    },
    {
     "ename": "KeyError",
     "evalue": "4",
     "output_type": "error",
     "traceback": [
      "\u001b[31m---------------------------------------------------------------------------\u001b[39m",
      "\u001b[31mKeyError\u001b[39m                                  Traceback (most recent call last)",
      "\u001b[36mCell\u001b[39m\u001b[36m \u001b[39m\u001b[32mIn[9]\u001b[39m\u001b[32m, line 4\u001b[39m\n\u001b[32m      2\u001b[39m set2.remove(\u001b[32m2\u001b[39m)\n\u001b[32m      3\u001b[39m \u001b[38;5;28mprint\u001b[39m(set2)\n\u001b[32m----> \u001b[39m\u001b[32m4\u001b[39m \u001b[43mset2\u001b[49m\u001b[43m.\u001b[49m\u001b[43mremove\u001b[49m\u001b[43m(\u001b[49m\u001b[32;43m4\u001b[39;49m\u001b[43m)\u001b[49m\n\u001b[32m      5\u001b[39m \u001b[38;5;28mprint\u001b[39m(set2)\n",
      "\u001b[31mKeyError\u001b[39m: 4"
     ]
    }
   ],
   "source": [
    "set2 = {1, 2, 3}\n",
    "set2.remove(2)\n",
    "print(set2)\n",
    "set2.remove(4)\n",
    "print(set2)"
   ]
  },
  {
   "cell_type": "markdown",
   "id": "7eb5ac26",
   "metadata": {},
   "source": [
    "4. discard() - it does not shpw any error if value is not from set as like remove()"
   ]
  },
  {
   "cell_type": "markdown",
   "id": "90ccee72",
   "metadata": {},
   "source": [
    "2. update()"
   ]
  },
  {
   "cell_type": "code",
   "execution_count": 10,
   "id": "a7644288",
   "metadata": {},
   "outputs": [
    {
     "name": "stdout",
     "output_type": "stream",
     "text": [
      "{1, 2, 3}\n"
     ]
    }
   ],
   "source": [
    "set3 = {1, 2, 3}\n",
    "set3.discard(5)\n",
    "print(set3)"
   ]
  },
  {
   "cell_type": "markdown",
   "id": "ea32fad8",
   "metadata": {},
   "source": [
    "5. pop() - it removes any random element in the set"
   ]
  },
  {
   "cell_type": "code",
   "execution_count": 11,
   "id": "264f2c7e",
   "metadata": {},
   "outputs": [
    {
     "name": "stdout",
     "output_type": "stream",
     "text": [
      "Removed element: 1\n",
      "{2, 3}\n"
     ]
    }
   ],
   "source": [
    "set4 = {1, 2, 3}\n",
    "removed_element = set4.pop()    \n",
    "print(f\"Removed element: {removed_element}\")\n",
    "print(set4)"
   ]
  },
  {
   "cell_type": "markdown",
   "id": "80b0e5f8",
   "metadata": {},
   "source": [
    "6. clear()"
   ]
  },
  {
   "cell_type": "code",
   "execution_count": 12,
   "id": "618096ea",
   "metadata": {},
   "outputs": [
    {
     "name": "stdout",
     "output_type": "stream",
     "text": [
      "set()\n"
     ]
    }
   ],
   "source": [
    "set5 = {1, 2, 3}\n",
    "set5.clear()\n",
    "print(set5)"
   ]
  },
  {
   "cell_type": "markdown",
   "id": "7f93184e",
   "metadata": {},
   "source": [
    "7. union() - "
   ]
  },
  {
   "cell_type": "code",
   "execution_count": 13,
   "id": "7f80fbb8",
   "metadata": {},
   "outputs": [
    {
     "name": "stdout",
     "output_type": "stream",
     "text": [
      "{1, 2, 3, 4, 5}\n"
     ]
    }
   ],
   "source": [
    "set1 = {1, 2, 3}\n",
    "set2 = {3, 4, 5}\n",
    "set3 = set1.union(set2)     \n",
    "print(set3)"
   ]
  },
  {
   "cell_type": "code",
   "execution_count": 15,
   "id": "1f548b00",
   "metadata": {},
   "outputs": [
    {
     "name": "stdout",
     "output_type": "stream",
     "text": [
      "{1, 2, 3, 4, 5}\n",
      "{1, 2, 3, 4, 5, 6, 7, 8}\n",
      "{1, 2, 3, 4, 5}\n"
     ]
    }
   ],
   "source": [
    "set3 = {1, 2, 3}\n",
    "set4 = {3, 4, 5}\n",
    "result = set3.union(set4)\n",
    "print(result)\n",
    "\n",
    "set4 = {6, 7, 8}\n",
    "ans = result.union(set4)\n",
    "print(ans)\n",
    "\n",
    "set5 = {1, 2, 3}\n",
    "set6 = {3, 4, 5}\n",
    "answer = set6.union(set5)\n",
    "print(answer)"
   ]
  },
  {
   "cell_type": "markdown",
   "id": "ef400b4c",
   "metadata": {},
   "source": [
    "8. intersection()"
   ]
  },
  {
   "cell_type": "code",
   "execution_count": 17,
   "id": "66731ac3",
   "metadata": {},
   "outputs": [
    {
     "name": "stdout",
     "output_type": "stream",
     "text": [
      "{3, 4}\n"
     ]
    }
   ],
   "source": [
    "set1 = {1, 2, 3, 4}\n",
    "set2 = {3, 4, 5}\n",
    "result = set1.intersection(set2)\n",
    "print(result)"
   ]
  },
  {
   "cell_type": "markdown",
   "id": "d9d42e55",
   "metadata": {},
   "source": [
    "9. symmetric_difference() - returns a set with elements in either set1 or set2 but not both."
   ]
  },
  {
   "cell_type": "code",
   "execution_count": 20,
   "id": "4ec9fc60",
   "metadata": {},
   "outputs": [
    {
     "name": "stdout",
     "output_type": "stream",
     "text": [
      "Difference  {1, 2}\n",
      "Symmetric Difference  {1, 2, 4, 5}\n"
     ]
    }
   ],
   "source": [
    "# Difference\n",
    "set1 = {1, 2, 3}\n",
    "set2 = {3, 4, 5}\n",
    "set3 = set1.difference(set2)\n",
    "print(\"Difference \", set3)\n",
    "\n",
    "# Symmetric Difference\n",
    "set4 = set1.symmetric_difference(set2)\n",
    "print(\"Symmetric Difference \", set4)"
   ]
  },
  {
   "cell_type": "markdown",
   "id": "7f3b63f8",
   "metadata": {},
   "source": [
    "10. issubset()"
   ]
  },
  {
   "cell_type": "code",
   "execution_count": 21,
   "id": "693c4a4c",
   "metadata": {},
   "outputs": [
    {
     "name": "stdout",
     "output_type": "stream",
     "text": [
      "Is set2 a subset of set1? False\n"
     ]
    }
   ],
   "source": [
    "set1 = {1, 2}\n",
    "set2 = {1, 2, 3, 4, 5}\n",
    "set3 = set2.issubset(set1)\n",
    "print(\"Is set2 a subset of set1?\", set3)"
   ]
  },
  {
   "cell_type": "markdown",
   "id": "16546946",
   "metadata": {},
   "source": [
    "11. issuperset()"
   ]
  },
  {
   "cell_type": "code",
   "execution_count": 22,
   "id": "c38354b6",
   "metadata": {},
   "outputs": [
    {
     "name": "stdout",
     "output_type": "stream",
     "text": [
      "Is set1 a superset of set2? True\n"
     ]
    }
   ],
   "source": [
    "set1 = {1, 2, 3}\n",
    "set2 = {2, 3}\n",
    "print(\"Is set1 a superset of set2?\", set1.issuperset(set2))"
   ]
  },
  {
   "cell_type": "markdown",
   "id": "099b79dc",
   "metadata": {},
   "source": [
    "12. len()"
   ]
  },
  {
   "cell_type": "code",
   "execution_count": 23,
   "id": "af0f9fc0",
   "metadata": {},
   "outputs": [
    {
     "name": "stdout",
     "output_type": "stream",
     "text": [
      "Length of set1: 3\n"
     ]
    }
   ],
   "source": [
    "print(\"Length of set1:\", len(set1))"
   ]
  },
  {
   "cell_type": "code",
   "execution_count": null,
   "id": "ef0ef876",
   "metadata": {},
   "outputs": [],
   "source": []
  }
 ],
 "metadata": {
  "kernelspec": {
   "display_name": "Python 3",
   "language": "python",
   "name": "python3"
  },
  "language_info": {
   "codemirror_mode": {
    "name": "ipython",
    "version": 3
   },
   "file_extension": ".py",
   "mimetype": "text/x-python",
   "name": "python",
   "nbconvert_exporter": "python",
   "pygments_lexer": "ipython3",
   "version": "3.13.5"
  }
 },
 "nbformat": 4,
 "nbformat_minor": 5
}
